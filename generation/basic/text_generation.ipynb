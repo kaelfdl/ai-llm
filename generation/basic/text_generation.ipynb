{
 "cells": [
  {
   "cell_type": "code",
   "execution_count": 1,
   "id": "c6b25069-9af4-4d2d-b2ff-5bcbf7863061",
   "metadata": {},
   "outputs": [],
   "source": [
    "from transformers import AutoModelForCausalLM, AutoTokenizer"
   ]
  },
  {
   "cell_type": "code",
   "execution_count": 2,
   "id": "e4c57b8e-6dc0-4401-8a5a-a1f3892f5749",
   "metadata": {},
   "outputs": [
    {
     "name": "stderr",
     "output_type": "stream",
     "text": [
      "The `load_in_4bit` and `load_in_8bit` arguments are deprecated and will be removed in the future versions. Please, pass a `BitsAndBytesConfig` object in `quantization_config` argument instead.\n"
     ]
    },
    {
     "data": {
      "application/vnd.jupyter.widget-view+json": {
       "model_id": "b38e78aeaf764be68b45d1240c93e334",
       "version_major": 2,
       "version_minor": 0
      },
      "text/plain": [
       "Loading checkpoint shards:   0%|          | 0/2 [00:00<?, ?it/s]"
      ]
     },
     "metadata": {},
     "output_type": "display_data"
    }
   ],
   "source": [
    "MODEL = \"mistralai/Mistral-7B-v0.1\"\n",
    "model = AutoModelForCausalLM.from_pretrained(MODEL, device_map=\"auto\", load_in_4bit=True)"
   ]
  },
  {
   "cell_type": "code",
   "execution_count": 3,
   "id": "182899e6-94bf-4e6d-b043-911dcf44e1e6",
   "metadata": {},
   "outputs": [],
   "source": [
    "tokenizer = AutoTokenizer.from_pretrained(MODEL, padding_side=\"left\")"
   ]
  },
  {
   "cell_type": "code",
   "execution_count": 4,
   "id": "f7348b6e-9d66-48dd-9a21-c56bbfa5aaa9",
   "metadata": {},
   "outputs": [],
   "source": [
    "tokenizer.pad_token = tokenizer.eos_token"
   ]
  },
  {
   "cell_type": "code",
   "execution_count": 13,
   "id": "04449c29-dac7-4282-956d-f317657d04f8",
   "metadata": {},
   "outputs": [
    {
     "name": "stdin",
     "output_type": "stream",
     "text": [
      "Text:  i love you, but\n"
     ]
    }
   ],
   "source": [
    "text = input(\"Text: \")"
   ]
  },
  {
   "cell_type": "code",
   "execution_count": 6,
   "id": "7dfdb58c-ac90-4b5d-bfe7-16a9a593c630",
   "metadata": {},
   "outputs": [],
   "source": [
    "model_inputs = tokenizer(text, return_tensors=\"pt\", padding=True).to(\"cuda\") "
   ]
  },
  {
   "cell_type": "code",
   "execution_count": 7,
   "id": "e250b5c1-4962-4987-ae35-3e98549924f0",
   "metadata": {},
   "outputs": [],
   "source": [
    "input_length = model_inputs.input_ids.shape[1]"
   ]
  },
  {
   "cell_type": "code",
   "execution_count": 8,
   "id": "bf527e72-cbfd-4c64-980c-941b4dc2a721",
   "metadata": {},
   "outputs": [
    {
     "name": "stderr",
     "output_type": "stream",
     "text": [
      "Setting `pad_token_id` to `eos_token_id`:2 for open-end generation.\n",
      "/home/gabryel/development/ai/ai-llm/venv/lib/python3.10/site-packages/transformers/generation/utils.py:1178: UserWarning: Using the model-agnostic default `max_length` (=20) to control the generation length. We recommend setting `max_new_tokens` to control the maximum length of the generation.\n",
      "  warnings.warn(\n",
      "/home/gabryel/development/ai/ai-llm/venv/lib/python3.10/site-packages/bitsandbytes/nn/modules.py:391: UserWarning: Input type into Linear4bit is torch.float16, but bnb_4bit_compute_dtype=torch.float32 (default). This will lead to slow inference or training speed.\n",
      "  warnings.warn('Input type into Linear4bit is torch.float16, but bnb_4bit_compute_dtype=torch.float32 (default). This will lead to slow inference or training speed.')\n"
     ]
    }
   ],
   "source": [
    "generated_ids = model.generate(**model_inputs, do_sample=True)"
   ]
  },
  {
   "cell_type": "code",
   "execution_count": 9,
   "id": "af66a882-ac6f-4720-a77e-14fc2ba8c600",
   "metadata": {},
   "outputs": [
    {
     "data": {
      "text/plain": [
       "tensor([[    1, 28139, 28725,   613,  2672,   368,  3154, 28725,    13,    13,\n",
       "           293,   613,   403,  7312,   575,   302,   369,   287,   491,  1193]],\n",
       "       device='cuda:0')"
      ]
     },
     "execution_count": 9,
     "metadata": {},
     "output_type": "execute_result"
    }
   ],
   "source": [
    "generated_ids"
   ]
  },
  {
   "cell_type": "code",
   "execution_count": 10,
   "id": "0e2367a1-91cc-4bd8-ae1b-3cbaf200f67d",
   "metadata": {},
   "outputs": [],
   "source": [
    "generated_sentence = tokenizer.batch_decode(generated_ids, skip_special_tokens=True)[0]"
   ]
  },
  {
   "cell_type": "code",
   "execution_count": 11,
   "id": "d94d7b2e-a428-4f15-b207-2d6370083a72",
   "metadata": {},
   "outputs": [
    {
     "data": {
      "text/plain": [
       "tensor([[    1, 28139, 28725,   613,  2672,   368,  3154, 28725,    13,    13,\n",
       "           293,   613,   403,  7312,   575,   302,   369,   287,   491,  1193]],\n",
       "       device='cuda:0')"
      ]
     },
     "execution_count": 11,
     "metadata": {},
     "output_type": "execute_result"
    }
   ],
   "source": [
    "generated_ids"
   ]
  },
  {
   "cell_type": "code",
   "execution_count": 12,
   "id": "9abc1179-1af9-4c04-a0f8-08814e13144b",
   "metadata": {},
   "outputs": [
    {
     "name": "stdout",
     "output_type": "stream",
     "text": [
      "hey, i saw you today,\n",
      "\n",
      "as i was walking out of that bakery\n"
     ]
    }
   ],
   "source": [
    "print(generated_sentence)"
   ]
  }
 ],
 "metadata": {
  "kernelspec": {
   "display_name": "venv",
   "language": "python",
   "name": "venv"
  },
  "language_info": {
   "codemirror_mode": {
    "name": "ipython",
    "version": 3
   },
   "file_extension": ".py",
   "mimetype": "text/x-python",
   "name": "python",
   "nbconvert_exporter": "python",
   "pygments_lexer": "ipython3",
   "version": "3.10.12"
  }
 },
 "nbformat": 4,
 "nbformat_minor": 5
}
